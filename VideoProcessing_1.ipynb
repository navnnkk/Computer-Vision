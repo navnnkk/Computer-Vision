{
 "cells": [
  {
   "cell_type": "code",
   "execution_count": 2,
   "metadata": {},
   "outputs": [
    {
     "ename": "error",
     "evalue": "/io/opencv/modules/highgui/src/window.cpp:331: error: (-215) size.width>0 && size.height>0 in function imshow\n",
     "output_type": "error",
     "traceback": [
      "\u001b[0;31m---------------------------------------------------------------------------\u001b[0m",
      "\u001b[0;31merror\u001b[0m                                     Traceback (most recent call last)",
      "\u001b[0;32m<ipython-input-2-c2c34be4b681>\u001b[0m in \u001b[0;36m<module>\u001b[0;34m()\u001b[0m\n\u001b[1;32m      6\u001b[0m     \u001b[0mcoordinates\u001b[0m \u001b[0;34m=\u001b[0m \u001b[0mface_model\u001b[0m\u001b[0;34m.\u001b[0m\u001b[0mdetectMultiScale\u001b[0m\u001b[0;34m(\u001b[0m\u001b[0mphoto\u001b[0m\u001b[0;34m)\u001b[0m\u001b[0;34m\u001b[0m\u001b[0m\n\u001b[1;32m      7\u001b[0m     \u001b[0;32mif\u001b[0m \u001b[0mlen\u001b[0m\u001b[0;34m(\u001b[0m\u001b[0mcoordinates\u001b[0m\u001b[0;34m)\u001b[0m \u001b[0;34m==\u001b[0m \u001b[0;36m0\u001b[0m\u001b[0;34m:\u001b[0m\u001b[0;34m\u001b[0m\u001b[0m\n\u001b[0;32m----> 8\u001b[0;31m         \u001b[0mcv\u001b[0m\u001b[0;34m.\u001b[0m\u001b[0mimshow\u001b[0m\u001b[0;34m(\u001b[0m\u001b[0;34m\"pic\"\u001b[0m\u001b[0;34m,\u001b[0m \u001b[0mphoto\u001b[0m\u001b[0;34m)\u001b[0m\u001b[0;34m\u001b[0m\u001b[0m\n\u001b[0m\u001b[1;32m      9\u001b[0m         \u001b[0;32mif\u001b[0m \u001b[0mcv\u001b[0m\u001b[0;34m.\u001b[0m\u001b[0mwaitKey\u001b[0m\u001b[0;34m(\u001b[0m\u001b[0;36m1\u001b[0m\u001b[0;34m)\u001b[0m \u001b[0;34m==\u001b[0m \u001b[0;36m13\u001b[0m\u001b[0;34m:\u001b[0m\u001b[0;34m\u001b[0m\u001b[0m\n\u001b[1;32m     10\u001b[0m             \u001b[0;32mbreak\u001b[0m\u001b[0;34m\u001b[0m\u001b[0m\n",
      "\u001b[0;31merror\u001b[0m: /io/opencv/modules/highgui/src/window.cpp:331: error: (-215) size.width>0 && size.height>0 in function imshow\n"
     ]
    }
   ],
   "source": [
    "# ---------------------------------\n",
    "# Face Detection python program\n",
    "# ---------------------------------\n",
    "\n",
    "import cv2 as cv       #importing cv2 library\n",
    "cam1 = cv.VideoCapture(0)\n",
    "\n",
    "#-----------------\n",
    "# Training Model\n",
    "#-----------------\n",
    "\n",
    "face_model = cv.CascadeClassifier(\"/root/Desktop/python_codes/ML/haarcascade_frontalface_default.xml\")\n",
    "\n",
    "# \"haarcascade_frontalface_default.xml\" file is also provided in  my repository for practice purpose\n",
    "\n",
    "while True:\n",
    "    ret, photo = cam1.read()\n",
    "    coordinates = face_model.detectMultiScale(photo)\n",
    "\n",
    "    if len(coordinates) != 0:\n",
    "\n",
    "        x0 = coordinates[0][0]                                     # coordinates of face in the videos\n",
    "        y0 = coordinates[0][1]                                     # coordinates of face in the videos\n",
    "        x1 = coordinates[0][0] + coordinates[0][2]                 # coordinates of face in the videos\n",
    "        y1 = coordinates[0][1] + coordinates[0][3]                 # coordinates of face in the videos\n",
    "        \n",
    "        cv.rectangle(photo,(x0,y0),(x1,y1),(0,0,255),3)\n",
    "        cv.imshow(\"pic\", photo)\n",
    "        if cv.waitKey(1) == 13:\n",
    "            break\n",
    "\n",
    "cv.destroyAllWindows()\n",
    "cam1.release()"
   ]
  },
  {
   "cell_type": "code",
   "execution_count": null,
   "metadata": {},
   "outputs": [],
   "source": [
    "# --------------------------------------------------------------------\n",
    "# Practice code not for use...this is only for my learning purpose\n",
    "# --------------------------------------------------------------------\n",
    "\n",
    "import cv2 as cv\n",
    "cam1 = cv.VideoCapture(0)\n",
    "ret, photo = cam1.read()\n",
    "cv.imshow(\"pic\", photo)\n",
    "cv.waitKey(2000)\n",
    "cv.destroyAllWindows()\n",
    "cam1.release()"
   ]
  },
  {
   "cell_type": "code",
   "execution_count": null,
   "metadata": {},
   "outputs": [],
   "source": [
    "face_model = cv.CascadeClassifier(\"/root/Desktop/python_codes/ML/haarcascade_frontalface_default.xml\")\n",
    "coordinates = face_model.detectMultiScale(photo)"
   ]
  },
  {
   "cell_type": "code",
   "execution_count": null,
   "metadata": {},
   "outputs": [],
   "source": [
    "coordinates"
   ]
  },
  {
   "cell_type": "code",
   "execution_count": null,
   "metadata": {},
   "outputs": [],
   "source": [
    "x0 = coordinates[0][0]\n",
    "y0 = coordinates[0][1]\n",
    "x1 = coordinates[0][0] + coordinates[0][2]\n",
    "y1 = coordinates[0][1] + coordinates[0][3]"
   ]
  },
  {
   "cell_type": "code",
   "execution_count": null,
   "metadata": {},
   "outputs": [],
   "source": [
    "cv.rectangle(photo,(x0,y0),(x1,y1),(0,0,255),2)\n",
    "cv.imshow(\"pic\", photo)\n",
    "cv.waitKey()\n",
    "cv.destroyAllWindows()\n",
    "cam1.release()"
   ]
  },
  {
   "cell_type": "code",
   "execution_count": null,
   "metadata": {},
   "outputs": [],
   "source": [
    "cam1.release()"
   ]
  }
 ],
 "metadata": {
  "kernelspec": {
   "display_name": "Python 3",
   "language": "python",
   "name": "python3"
  },
  "language_info": {
   "codemirror_mode": {
    "name": "ipython",
    "version": 3
   },
   "file_extension": ".py",
   "mimetype": "text/x-python",
   "name": "python",
   "nbconvert_exporter": "python",
   "pygments_lexer": "ipython3",
   "version": "3.6.8"
  }
 },
 "nbformat": 4,
 "nbformat_minor": 2
}
